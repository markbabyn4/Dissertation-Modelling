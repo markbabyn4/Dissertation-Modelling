{
 "cells": [
  {
   "cell_type": "code",
   "execution_count": 37,
   "metadata": {},
   "outputs": [],
   "source": [
    "import numpy as np\n",
    "import pandas as pd\n",
    "import matplotlib.pyplot as plt\n",
    "import os\n",
    "import pyreadstat"
   ]
  },
  {
   "cell_type": "code",
   "execution_count": 38,
   "metadata": {},
   "outputs": [],
   "source": [
    "__PATH_to_FILE__ = \"YOUR PATH HERE\""
   ]
  },
  {
   "cell_type": "code",
   "execution_count": 56,
   "metadata": {},
   "outputs": [],
   "source": [
    "def read_large_pandas_df(file_name):\n",
    "    my_list = []\n",
    "    for chunk in pd.read_csv(file_name, chunksize=100):\n",
    "        my_list.append(chunk)\n",
    "    df = pd.concat(my_list, axis=0)\n",
    "    del my_list\n",
    "    \n",
    "    return df\n",
    "\n",
    "def del_certain_columns_pandas_df(df, col_list):\n",
    "    df = df.drop(col_list, axis = 1)\n",
    "    return df\n",
    "\n",
    "def del_rows_w_certain_values(df):\n",
    "    for col in df.columns[1:]:\n",
    "        df = df[df[col]>0]\n",
    "    return df"
   ]
  },
  {
   "cell_type": "markdown",
   "metadata": {},
   "source": [
    "# PREPARE DATASET"
   ]
  },
  {
   "cell_type": "code",
   "execution_count": 104,
   "metadata": {},
   "outputs": [],
   "source": [
    "df_householdeul2017_short = read_large_pandas_df(\"householdeul2017_short.csv\")"
   ]
  },
  {
   "cell_type": "code",
   "execution_count": 105,
   "metadata": {},
   "outputs": [],
   "source": [
    "cols_to_stay = [\"HouseholdID\", 'SurveyYear', \"TWSWeek\", \"HHIncome2002_B02ID\", \"HHIncOrig_B01ID\", \"HHoldCountry_B01ID\", \"HHoldNumAdults\", \n",
    "\"HHoldNumChildren\", \"NumVehicles\", \"StationKmTRACC\", \"WalkRailAlt_B01ID\", \"HRPWorkStat_B02ID\", \"HRPSEGWorkStat_B01ID\", \"BusStandard_B01ID\"]\n",
    "columns_to_delete = [i for i in df_householdeul2017_short.columns if i not in cols_to_stay]\n",
    "df_householdeul2017_short = del_certain_columns_pandas_df(df_householdeul2017_short , columns_to_delete)"
   ]
  },
  {
   "cell_type": "code",
   "execution_count": 106,
   "metadata": {},
   "outputs": [],
   "source": [
    "df_householdeul2017_short[\"NumVehicles\"] = df_householdeul2017_short[\"NumVehicles\"].replace(\" \", -10).astype('float32')\n",
    "df_householdeul2017_short[\"HHIncome2002_B02ID\"] = df_householdeul2017_short[\"HHIncome2002_B02ID\"].replace(\" \", -10).astype('float32')"
   ]
  },
  {
   "cell_type": "code",
   "execution_count": 65,
   "metadata": {},
   "outputs": [
    {
     "data": {
      "text/plain": [
       "(135794, 14)"
      ]
     },
     "execution_count": 65,
     "metadata": {},
     "output_type": "execute_result"
    }
   ],
   "source": [
    "df_householdeul2017_short.shape"
   ]
  },
  {
   "cell_type": "code",
   "execution_count": 101,
   "metadata": {},
   "outputs": [],
   "source": [
    "col_int = list(filter(lambda x: x not in ['HouseholdID', 'SurveyYear'], df_householdeul2017_short.columns.tolist()))"
   ]
  },
  {
   "cell_type": "code",
   "execution_count": 102,
   "metadata": {},
   "outputs": [],
   "source": [
    "df_householdeul2017_short = df_householdeul2017_short[(df_householdeul2017_short[col_int] > 0).all(axis=1)]"
   ]
  },
  {
   "cell_type": "code",
   "execution_count": 108,
   "metadata": {},
   "outputs": [
    {
     "data": {
      "text/plain": [
       "(135794, 14)"
      ]
     },
     "execution_count": 108,
     "metadata": {},
     "output_type": "execute_result"
    }
   ],
   "source": [
    "df_householdeul2017_short.shape"
   ]
  },
  {
   "cell_type": "code",
   "execution_count": 109,
   "metadata": {},
   "outputs": [],
   "source": [
    "df_householdeul2017_short.to_csv(\"Households_variables_processed.csv\", index=False)"
   ]
  },
  {
   "cell_type": "markdown",
   "metadata": {},
   "source": [
    "# Households Processing"
   ]
  },
  {
   "cell_type": "code",
   "execution_count": 110,
   "metadata": {},
   "outputs": [
    {
     "data": {
      "text/plain": [
       "Index(['HouseholdID', 'SurveyYear', 'TWSWeek', 'HHIncome2002_B02ID',\n",
       "       'HHIncOrig_B01ID', 'HHoldCountry_B01ID', 'HHoldNumAdults',\n",
       "       'HHoldNumChildren', 'NumVehicles', 'StationKmTRACC',\n",
       "       'WalkRailAlt_B01ID', 'HRPWorkStat_B02ID', 'HRPSEGWorkStat_B01ID',\n",
       "       'BusStandard_B01ID'],\n",
       "      dtype='object')"
      ]
     },
     "execution_count": 110,
     "metadata": {},
     "output_type": "execute_result"
    }
   ],
   "source": [
    "df_householdeul2017_short.columns"
   ]
  },
  {
   "cell_type": "code",
   "execution_count": 113,
   "metadata": {},
   "outputs": [],
   "source": [
    "df_householdeul2017_short[\"Total_people\"] = df_householdeul2017_short[\"HHoldNumAdults\"] + df_householdeul2017_short[\"HHoldNumChildren\"]"
   ]
  },
  {
   "cell_type": "code",
   "execution_count": 117,
   "metadata": {},
   "outputs": [],
   "source": [
    "df_householdeul2017_short[\"Income_dollars\"] = df_householdeul2017_short[\"HHIncome2002_B02ID\"].map({2.0: 50000, 3.0: 75000, 1.0: 25000})"
   ]
  },
  {
   "cell_type": "code",
   "execution_count": 120,
   "metadata": {},
   "outputs": [
    {
     "data": {
      "text/html": [
       "<div>\n",
       "<style scoped>\n",
       "    .dataframe tbody tr th:only-of-type {\n",
       "        vertical-align: middle;\n",
       "    }\n",
       "\n",
       "    .dataframe tbody tr th {\n",
       "        vertical-align: top;\n",
       "    }\n",
       "\n",
       "    .dataframe thead th {\n",
       "        text-align: right;\n",
       "    }\n",
       "</style>\n",
       "<table border=\"1\" class=\"dataframe\">\n",
       "  <thead>\n",
       "    <tr style=\"text-align: right;\">\n",
       "      <th></th>\n",
       "      <th>HouseholdID</th>\n",
       "      <th>SurveyYear</th>\n",
       "      <th>TWSWeek</th>\n",
       "      <th>HHIncome2002_B02ID</th>\n",
       "      <th>HHIncOrig_B01ID</th>\n",
       "      <th>HHoldCountry_B01ID</th>\n",
       "      <th>HHoldNumAdults</th>\n",
       "      <th>HHoldNumChildren</th>\n",
       "      <th>NumVehicles</th>\n",
       "      <th>StationKmTRACC</th>\n",
       "      <th>WalkRailAlt_B01ID</th>\n",
       "      <th>HRPWorkStat_B02ID</th>\n",
       "      <th>HRPSEGWorkStat_B01ID</th>\n",
       "      <th>BusStandard_B01ID</th>\n",
       "      <th>Total_people</th>\n",
       "      <th>Income_per_person</th>\n",
       "      <th>Income_dollars</th>\n",
       "    </tr>\n",
       "  </thead>\n",
       "  <tbody>\n",
       "    <tr>\n",
       "      <th>0</th>\n",
       "      <td>2002000001</td>\n",
       "      <td>2002</td>\n",
       "      <td>4</td>\n",
       "      <td>2.0</td>\n",
       "      <td>1</td>\n",
       "      <td>1</td>\n",
       "      <td>2</td>\n",
       "      <td>2</td>\n",
       "      <td>2.0</td>\n",
       "      <td>-10.0</td>\n",
       "      <td>-9</td>\n",
       "      <td>1</td>\n",
       "      <td>3</td>\n",
       "      <td>1</td>\n",
       "      <td>4</td>\n",
       "      <td>12500.0</td>\n",
       "      <td>50000.0</td>\n",
       "    </tr>\n",
       "    <tr>\n",
       "      <th>1</th>\n",
       "      <td>2002000002</td>\n",
       "      <td>2002</td>\n",
       "      <td>3</td>\n",
       "      <td>1.0</td>\n",
       "      <td>1</td>\n",
       "      <td>1</td>\n",
       "      <td>1</td>\n",
       "      <td>0</td>\n",
       "      <td>0.0</td>\n",
       "      <td>-10.0</td>\n",
       "      <td>-9</td>\n",
       "      <td>3</td>\n",
       "      <td>5</td>\n",
       "      <td>1</td>\n",
       "      <td>1</td>\n",
       "      <td>25000.0</td>\n",
       "      <td>25000.0</td>\n",
       "    </tr>\n",
       "    <tr>\n",
       "      <th>2</th>\n",
       "      <td>2002000003</td>\n",
       "      <td>2002</td>\n",
       "      <td>3</td>\n",
       "      <td>3.0</td>\n",
       "      <td>1</td>\n",
       "      <td>1</td>\n",
       "      <td>3</td>\n",
       "      <td>0</td>\n",
       "      <td>2.0</td>\n",
       "      <td>-10.0</td>\n",
       "      <td>-9</td>\n",
       "      <td>1</td>\n",
       "      <td>3</td>\n",
       "      <td>1</td>\n",
       "      <td>3</td>\n",
       "      <td>25000.0</td>\n",
       "      <td>75000.0</td>\n",
       "    </tr>\n",
       "    <tr>\n",
       "      <th>3</th>\n",
       "      <td>2002000004</td>\n",
       "      <td>2002</td>\n",
       "      <td>5</td>\n",
       "      <td>3.0</td>\n",
       "      <td>1</td>\n",
       "      <td>1</td>\n",
       "      <td>2</td>\n",
       "      <td>0</td>\n",
       "      <td>2.0</td>\n",
       "      <td>-10.0</td>\n",
       "      <td>-9</td>\n",
       "      <td>1</td>\n",
       "      <td>3</td>\n",
       "      <td>1</td>\n",
       "      <td>2</td>\n",
       "      <td>37500.0</td>\n",
       "      <td>75000.0</td>\n",
       "    </tr>\n",
       "    <tr>\n",
       "      <th>4</th>\n",
       "      <td>2002000005</td>\n",
       "      <td>2002</td>\n",
       "      <td>3</td>\n",
       "      <td>3.0</td>\n",
       "      <td>1</td>\n",
       "      <td>1</td>\n",
       "      <td>3</td>\n",
       "      <td>0</td>\n",
       "      <td>3.0</td>\n",
       "      <td>-10.0</td>\n",
       "      <td>-9</td>\n",
       "      <td>1</td>\n",
       "      <td>1</td>\n",
       "      <td>1</td>\n",
       "      <td>3</td>\n",
       "      <td>25000.0</td>\n",
       "      <td>75000.0</td>\n",
       "    </tr>\n",
       "  </tbody>\n",
       "</table>\n",
       "</div>"
      ],
      "text/plain": [
       "   HouseholdID  SurveyYear  TWSWeek  HHIncome2002_B02ID  HHIncOrig_B01ID  \\\n",
       "0   2002000001        2002        4                 2.0                1   \n",
       "1   2002000002        2002        3                 1.0                1   \n",
       "2   2002000003        2002        3                 3.0                1   \n",
       "3   2002000004        2002        5                 3.0                1   \n",
       "4   2002000005        2002        3                 3.0                1   \n",
       "\n",
       "   HHoldCountry_B01ID  HHoldNumAdults  HHoldNumChildren  NumVehicles  \\\n",
       "0                   1               2                 2          2.0   \n",
       "1                   1               1                 0          0.0   \n",
       "2                   1               3                 0          2.0   \n",
       "3                   1               2                 0          2.0   \n",
       "4                   1               3                 0          3.0   \n",
       "\n",
       "   StationKmTRACC  WalkRailAlt_B01ID  HRPWorkStat_B02ID  HRPSEGWorkStat_B01ID  \\\n",
       "0           -10.0                 -9                  1                     3   \n",
       "1           -10.0                 -9                  3                     5   \n",
       "2           -10.0                 -9                  1                     3   \n",
       "3           -10.0                 -9                  1                     3   \n",
       "4           -10.0                 -9                  1                     1   \n",
       "\n",
       "   BusStandard_B01ID  Total_people  Income_per_person  Income_dollars  \n",
       "0                  1             4            12500.0         50000.0  \n",
       "1                  1             1            25000.0         25000.0  \n",
       "2                  1             3            25000.0         75000.0  \n",
       "3                  1             2            37500.0         75000.0  \n",
       "4                  1             3            25000.0         75000.0  "
      ]
     },
     "execution_count": 120,
     "metadata": {},
     "output_type": "execute_result"
    }
   ],
   "source": [
    "df_householdeul2017_short.head()"
   ]
  },
  {
   "cell_type": "code",
   "execution_count": 119,
   "metadata": {},
   "outputs": [],
   "source": [
    "df_householdeul2017_short[\"Income_per_person\"] = df_householdeul2017_short[\"Income_dollars\"]/df_householdeul2017_short['Total_people']"
   ]
  },
  {
   "cell_type": "code",
   "execution_count": 121,
   "metadata": {},
   "outputs": [
    {
     "name": "stderr",
     "output_type": "stream",
     "text": [
      "c:\\users\\marianna.petrova\\appdata\\local\\programs\\python\\python36-32\\lib\\site-packages\\numpy\\lib\\histograms.py:754: RuntimeWarning: invalid value encountered in greater_equal\n",
      "  keep = (tmp_a >= first_edge)\n",
      "c:\\users\\marianna.petrova\\appdata\\local\\programs\\python\\python36-32\\lib\\site-packages\\numpy\\lib\\histograms.py:755: RuntimeWarning: invalid value encountered in less_equal\n",
      "  keep &= (tmp_a <= last_edge)\n"
     ]
    },
    {
     "data": {
      "text/plain": [
       "(array([16444., 43635.,  6702., 51821.,  9438.,     0.,  6044.,     0.,\n",
       "            0.,  1709.]),\n",
       " array([ 2500.,  9750., 17000., 24250., 31500., 38750., 46000., 53250.,\n",
       "        60500., 67750., 75000.]),\n",
       " <a list of 10 Patch objects>)"
      ]
     },
     "execution_count": 121,
     "metadata": {},
     "output_type": "execute_result"
    },
    {
     "data": {
      "image/png": "[encoded data removed]",
      "text/plain": [
       "<Figure size 432x288 with 1 Axes>"
      ]
     },
     "metadata": {
      "needs_background": "light"
     },
     "output_type": "display_data"
    }
   ],
   "source": [
    "plt.hist(df_householdeul2017_short[\"Income_per_person\"])"
   ]
  },
  {
   "cell_type": "code",
   "execution_count": 130,
   "metadata": {},
   "outputs": [],
   "source": [
    "low_income_hh = df_householdeul2017_short[df_householdeul2017_short[\"Income_per_person\"]<10000]"
   ]
  },
  {
   "cell_type": "code",
   "execution_count": 132,
   "metadata": {},
   "outputs": [],
   "source": [
    "low_income_hh.to_csv('LowIncomeID.csv', index=False)"
   ]
  },
  {
   "cell_type": "code",
   "execution_count": null,
   "metadata": {},
   "outputs": [],
   "source": []
  }
 ],
 "metadata": {
  "kernelspec": {
   "display_name": "Python 3",
   "language": "python",
   "name": "python3"
  },
  "language_info": {
   "codemirror_mode": {
    "name": "ipython",
    "version": 3
   },
   "file_extension": ".py",
   "mimetype": "text/x-python",
   "name": "python",
   "nbconvert_exporter": "python",
   "pygments_lexer": "ipython3",
   "version": "3.6.6"
  }
 },
 "nbformat": 4,
 "nbformat_minor": 2
}
