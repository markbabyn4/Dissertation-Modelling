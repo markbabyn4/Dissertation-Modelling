{
 "cells": [
  {
   "cell_type": "code",
   "execution_count": 14,
   "metadata": {},
   "outputs": [],
   "source": [
    "import numpy as np\n",
    "import pandas as pd\n",
    "import matplotlib.pyplot as plt\n",
    "import os\n",
    "import pyreadstat"
   ]
  },
  {
   "cell_type": "code",
   "execution_count": 15,
   "metadata": {},
   "outputs": [],
   "source": [
    "__PATH_to_FILE__ = \"C:/Users/marianna.petrova/PycharmProjects/Transport/data\"\n",
    "os.chdir(__PATH_to_FILE__)"
   ]
  },
  {
   "cell_type": "code",
   "execution_count": 16,
   "metadata": {},
   "outputs": [],
   "source": [
    "def read_large_pandas_df(file_name):\n",
    "    my_list = []\n",
    "    k=0\n",
    "    for chunk in pd.read_csv(file_name, chunksize=100):\n",
    "        if k<2:\n",
    "            my_list.append(chunk)\n",
    "            k+=1\n",
    "        else:\n",
    "            break\n",
    "    df = pd.concat(my_list, axis=0)\n",
    "    del my_list\n",
    "    \n",
    "    return df"
   ]
  },
  {
   "cell_type": "code",
   "execution_count": 17,
   "metadata": {},
   "outputs": [],
   "source": [
    "def dicts_day_id(df, column_id, column_tomap):\n",
    "    return dict(zip(df[column_id].tolist(), df[column_tomap].tolist()))"
   ]
  },
  {
   "cell_type": "code",
   "execution_count": 18,
   "metadata": {},
   "outputs": [],
   "source": [
    "def del_certain_columns_pandas_df(df, col_list):\n",
    "    df = df.drop(col_list, axis = 1)\n",
    "    return df"
   ]
  },
  {
   "cell_type": "code",
   "execution_count": 19,
   "metadata": {},
   "outputs": [],
   "source": [
    "def del_rows_w_certain_values(df):\n",
    "    for col in df.columns:\n",
    "        df = df[df[col]>0]\n",
    "    return df"
   ]
  },
  {
   "cell_type": "code",
   "execution_count": 20,
   "metadata": {},
   "outputs": [],
   "source": [
    "df_dayeul2017 = read_large_pandas_df(\"dayeul2017.csv\")\n",
    "df_individualeul2017short = read_large_pandas_df(\"individualeul2017short.csv\")\n",
    "df_tripeul2017_short = read_large_pandas_df(\"tripeul2017_short.csv\")\n",
    "df_householdeul2017_short = read_large_pandas_df(\"householdeul2017_short.csv\")"
   ]
  },
  {
   "cell_type": "code",
   "execution_count": null,
   "metadata": {},
   "outputs": [],
   "source": [
    "dicts_day_id(df_dayeul2017, 'DayID', 'TravDay')\n",
    "dicts_day_id(df_dayeul2017, 'DayID', 'TravelDayTypeOld_B01ID')"
   ]
  },
  {
   "cell_type": "code",
   "execution_count": 10,
   "metadata": {},
   "outputs": [],
   "source": [
    "columns_to_delete = ['PSUID', 'PersNo', 'TravelWeekDay_B02ID', 'TravelWeekDay_B03ID', 'TravelDayType_B01ID', 'TravelWeekDay_B01ID']\n",
    "df_dayeul2017 = del_certain_columns_pandas_df(df_dayeul2017, columns_to_delete)"
   ]
  },
  {
   "cell_type": "code",
   "execution_count": 24,
   "metadata": {},
   "outputs": [],
   "source": [
    "cols_to_stay = [\"HouseholdID\", 'SurveyYear', \"TWSWeek\", \"HHIncome2002_B02ID\", \"HHIncOrig_B01ID\", \"HHoldCountry_B01ID\", \"HHoldNumAdults\", \n",
    "\"HHoldNumChildren\", \"NumVehicles\", \"StationKmTRACC\", \"WalkRailAlt_B01ID\", \"HRPWorkStat_B02ID\", \"HRPSEGWorkStat_B01ID\", \"BusStandard_B01ID\"]\n",
    "columns_to_delete = [i for i in df_householdeul2017_short.columns if i not in cols_to_stay]\n",
    "df_householdeul2017_short = del_certain_columns_pandas_df(df_householdeul2017_short , columns_to_delete)"
   ]
  },
  {
   "cell_type": "code",
   "execution_count": null,
   "metadata": {},
   "outputs": [],
   "source": [
    "columns_to_delete = ['MaritalS_B01ID', 'EdAttn3_B01ID', 'CarAccess_B02ID', 'filter_$']\n",
    "df_individualeul2017short = del_certain_columns_pandas_df(df_individualeul2017short, columns_to_delete)"
   ]
  },
  {
   "cell_type": "code",
   "execution_count": 12,
   "metadata": {},
   "outputs": [],
   "source": [
    "df_individualeul2017short = read_large_pandas_df(\"individualeul2017short.csv\")"
   ]
  },
  {
   "cell_type": "code",
   "execution_count": 22,
   "metadata": {},
   "outputs": [
    {
     "data": {
      "text/plain": [
       "Index(['TripID', 'SurveyYear', 'DayID', 'IndividualID', 'TravDay',\n",
       "       'HowComp_B01ID', 'NumStages', 'MainMode_B03ID', 'MainMode_B04ID',\n",
       "       'MainMode_B11ID', 'TripPurpose_B02ID', 'TripPurpose_B04ID',\n",
       "       'TripDisIncSW_B01ID', 'TripPurpFrom_B01ID', 'TripPurpTo_B01ID',\n",
       "       'JOTXSC', 'JTTXSC', 'JD', 'TripStart_B01ID', 'TripTotalTime',\n",
       "       'TripTotalTime_B01ID', 'TripTravTime', 'TripTravTime_B01ID'],\n",
       "      dtype='object')"
      ]
     },
     "execution_count": 22,
     "metadata": {},
     "output_type": "execute_result"
    }
   ],
   "source": [
    "df_tripeul2017_short.columns"
   ]
  },
  {
   "cell_type": "code",
   "execution_count": 12,
   "metadata": {},
   "outputs": [],
   "source": [
    "columns_to_delete = ['HowComp_B01ID', 'MainMode_B11ID', 'MainMode_B03ID', 'TripPurpose_B02ID', 'TripTotalTime_B01ID', 'TripTravTime_B01ID',\n",
    "                    'JOTXSC', ]\n",
    "df_tripeul2017_short = del_certain_columns_pandas_df(df_tripeul2017_short, columns_to_delete)"
   ]
  },
  {
   "cell_type": "code",
   "execution_count": 30,
   "metadata": {},
   "outputs": [],
   "source": [
    "df_tripeul2017_short['day_o_week'] = df_tripeul2017_short['DayID'].map(dicts_day_id(df_dayeul2017, 'DayID', 'TravDay'))\n",
    "df_tripeul2017_short['day_type'] = df_tripeul2017_short['DayID'].map(dicts_day_id(df_dayeul2017, 'DayID', 'TravelDayTypeOld_B01ID'))"
   ]
  },
  {
   "cell_type": "code",
   "execution_count": 35,
   "metadata": {},
   "outputs": [
    {
     "data": {
      "text/plain": [
       "(186, 25)"
      ]
     },
     "execution_count": 35,
     "metadata": {},
     "output_type": "execute_result"
    }
   ],
   "source": [
    "df_tripeul2017_short = del_rows_w_certain_values(df_tripeul2017_short)\n",
    "df_tripeul2017_short.shape"
   ]
  },
  {
   "cell_type": "code",
   "execution_count": null,
   "metadata": {},
   "outputs": [],
   "source": []
  }
 ],
 "metadata": {
  "kernelspec": {
   "display_name": "Python 3",
   "language": "python",
   "name": "python3"
  },
  "language_info": {
   "codemirror_mode": {
    "name": "ipython",
    "version": 3
   },
   "file_extension": ".py",
   "mimetype": "text/x-python",
   "name": "python",
   "nbconvert_exporter": "python",
   "pygments_lexer": "ipython3",
   "version": "3.6.6"
  }
 },
 "nbformat": 4,
 "nbformat_minor": 2
}
