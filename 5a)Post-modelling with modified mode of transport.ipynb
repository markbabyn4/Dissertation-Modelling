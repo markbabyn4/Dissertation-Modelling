{
 "cells": [
  {
   "cell_type": "code",
   "execution_count": 140,
   "metadata": {},
   "outputs": [],
   "source": [
    "import numpy as np\n",
    "import pandas as pd\n",
    "import matplotlib.pyplot as plt\n",
    "import os\n",
    "import pyreadstat\n",
    "import pickle\n",
    "import seaborn as sns\n",
    "from itertools import groupby"
   ]
  },
  {
   "cell_type": "code",
   "execution_count": 141,
   "metadata": {},
   "outputs": [],
   "source": [
    "__PATH_to_FILE__ = \"YOUR PATH HERE\"\n",
    "os.chdir(__PATH_to_FILE__)"
   ]
  },
  {
   "cell_type": "code",
   "execution_count": 142,
   "metadata": {},
   "outputs": [],
   "source": [
    "df = pd.read_csv(\"full_ds.csv\")\n",
    "df = df[df.SurveyYear > 2014]"
   ]
  },
  {
   "cell_type": "code",
   "execution_count": 145,
   "metadata": {},
   "outputs": [],
   "source": [
    "df = df.drop([\"JTTXSC\", \"TripDisIncSW_B01ID\", \"BusStandard_B01ID\", \"HHIncOrig_B01ID\", \"HHoldCountry_B01ID\", \"HouseholdID\", \"HHIncome2002_B02ID\", \"IndividualID\", \"SurveyYear\", 'DayID', \"WalkRailAlt_B01ID\", \"StationKmTRACC\",\n",
    "                       \"TripTravTime\"], axis = 1)"
   ]
  },
  {
   "cell_type": "code",
   "execution_count": 169,
   "metadata": {},
   "outputs": [
    {
     "data": {
      "text/plain": [
       "Text(0.5, 1.0, 'Trip mode')"
      ]
     },
     "execution_count": 169,
     "metadata": {},
     "output_type": "execute_result"
    },
    {
     "data": {
      "image/png": "[encoded data removed]",
      "text/plain": [
       "<Figure size 432x288 with 1 Axes>"
      ]
     },
     "metadata": {
      "needs_background": "light"
     },
     "output_type": "display_data"
    }
   ],
   "source": [
    "dict_dum_val = {1: \"Walk\", 2: \"Bicycle\", 3: \"Car/van driver\", 4: \"Car/van passenger\", 5: \"Motorcycle\", 6: \"Other private transport\", 7: \"Bus in London\",\n",
    "8: \"Other local bus\", 9: \"Non-local bus\", 10: \"London Underground\", 11: \"Surface Rail\", 12: \"Taxi/minicab\", 13: \"Other public transport\"}\n",
    "p = sns.countplot(df['MainMode_B04ID'], color='darkblue')\n",
    "plot_labels = dict_dum_val.values()\n",
    "p.set_xticklabels(plot_labels, rotation=90)\n",
    "p.set(ylabel='Count', xlabel = '')\n",
    "p.axes.set_title(\"Trip mode\", fontsize=18,color=\"black\")\n"
   ]
  },
  {
   "cell_type": "code",
   "execution_count": 148,
   "metadata": {},
   "outputs": [],
   "source": [
    "mode_tr = df['MainMode_B04ID'].tolist()\n",
    "mode_of_tr = [(np.random.randint(7, 11), i) for i in range(22000)]\n",
    "new_main_mode = [mode_of_tr[i][0] if mode_tr[i] in [3,4] else mode_tr[i] for i in range(22000)]\n",
    "new_main_mode.extend(mode_tr[22000:])\n",
    "df['MainMode_B04ID'] = new_main_mode"
   ]
  },
  {
   "cell_type": "code",
   "execution_count": 80,
   "metadata": {},
   "outputs": [],
   "source": [
    "dummies = ['MainMode_B04ID', 'TripPurpose_B04ID', \"TravDay\", 'TripPurpFrom_B01ID', 'TripPurpTo_B01ID', \n",
    "           'TripStart_B01ID', 'TWSWeek', 'HRPWorkStat_B02ID', 'HRPSEGWorkStat_B01ID', 'Age_B04ID',\n",
    "           'OfPenAge_B01ID', 'Sex_B01ID', 'CarAccess_B02ID']"
   ]
  },
  {
   "cell_type": "code",
   "execution_count": 152,
   "metadata": {},
   "outputs": [],
   "source": [
    "non_dummies = [i for i in df.columns if i not in dummies]   # 'TripTravTime' is target"
   ]
  },
  {
   "cell_type": "code",
   "execution_count": 154,
   "metadata": {},
   "outputs": [],
   "source": [
    "df_init = df"
   ]
  },
  {
   "cell_type": "code",
   "execution_count": 156,
   "metadata": {},
   "outputs": [],
   "source": [
    "dummies_df = pd.get_dummies(df[\"MainMode_B04ID\"], drop_first=True, prefix=\"MainMode_B04ID\")\n",
    "for i in dummies[1:]:\n",
    "    dummies_new = pd.get_dummies(df[i], drop_first=True, prefix=i)\n",
    "    dummies_df = pd.concat([dummies_df, dummies_new], axis=1)"
   ]
  },
  {
   "cell_type": "code",
   "execution_count": 87,
   "metadata": {},
   "outputs": [],
   "source": [
    "target_variable = df.TripTotalTime"
   ]
  },
  {
   "cell_type": "code",
   "execution_count": 161,
   "metadata": {},
   "outputs": [],
   "source": [
    "numeric_df = df_init[[\"TripTotalTime\", 'JD', 'HHoldNumAdults', 'HHoldNumChildren', 'NumVehicles']]"
   ]
  },
  {
   "cell_type": "code",
   "execution_count": 159,
   "metadata": {},
   "outputs": [],
   "source": [
    "all_var_df = pd.concat([numeric_df, dummies_df], axis=1)"
   ]
  },
  {
   "cell_type": "code",
   "execution_count": 93,
   "metadata": {},
   "outputs": [],
   "source": [
    "all_var_df.to_csv(\"trip_travel_2015_modified.csv\", index=False)"
   ]
  }
 ],
 "metadata": {
  "kernelspec": {
   "display_name": "Python 3",
   "language": "python",
   "name": "python3"
  },
  "language_info": {
   "codemirror_mode": {
    "name": "ipython",
    "version": 3
   },
   "file_extension": ".py",
   "mimetype": "text/x-python",
   "name": "python",
   "nbconvert_exporter": "python",
   "pygments_lexer": "ipython3",
   "version": "3.6.6"
  }
 },
 "nbformat": 4,
 "nbformat_minor": 2
}
